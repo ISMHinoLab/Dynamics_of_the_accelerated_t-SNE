{
 "cells": [
  {
   "cell_type": "code",
   "execution_count": null,
   "metadata": {},
   "outputs": [],
   "source": [
    "import utils"
   ]
  },
  {
   "cell_type": "markdown",
   "metadata": {},
   "source": [
    "## Initial setting"
   ]
  },
  {
   "cell_type": "code",
   "execution_count": null,
   "metadata": {},
   "outputs": [],
   "source": [
    "sample_data = 'kddcup'\n",
    "h = 10\n",
    "perplexity = 30\n",
    "alpha = 10\n",
    "labels = ['smurf', 'neptune', 'normal', 'back', 'satan']\n",
    "total_iteration = 50\n",
    "sample_number = 100\n",
    "momentum = 0.5\n",
    "R = 5\n",
    "m = 1\n",
    "\n",
    "sp = utils.SolutionPath(labels=labels\n",
    "                , sample_data=sample_data\n",
    "\t\t\t\t, perplexity=perplexity\n",
    "                , alpha=alpha\n",
    "                , h=h\n",
    "                , total_iteration = total_iteration\n",
    "                , momentum = momentum\n",
    "                , sample_number=sample_number\n",
    "                , R=R\n",
    "                , m=m)"
   ]
  },
  {
   "cell_type": "markdown",
   "metadata": {},
   "source": [
    "## Prepare dataset"
   ]
  },
  {
   "cell_type": "code",
   "execution_count": null,
   "metadata": {},
   "outputs": [],
   "source": [
    "## Load KDDCup data\n",
    "sp.load_data()"
   ]
  },
  {
   "cell_type": "code",
   "execution_count": null,
   "metadata": {},
   "outputs": [],
   "source": [
    "# Calculate the probability matrix P\n",
    "sp.tsne_probabilities(X=sp.X_sampled, \n",
    "                    perplexity=30,\n",
    "                    tol=1e-10,\n",
    "                    initial_beta_coefficient=1e-4)"
   ]
  },
  {
   "cell_type": "code",
   "execution_count": null,
   "metadata": {},
   "outputs": [],
   "source": [
    "## Heatmap of ajacency matrix P (`Figure 12`)\n",
    "sp.show_P_matrix()"
   ]
  },
  {
   "cell_type": "markdown",
   "metadata": {},
   "source": [
    "## Solve the eigenproblem of a Laplacian matrix $L(\\alpha P-H_n)$"
   ]
  },
  {
   "cell_type": "code",
   "execution_count": null,
   "metadata": {},
   "outputs": [],
   "source": [
    "## Solve eigenvalue problem\n",
    "sp.getSolution()"
   ]
  },
  {
   "cell_type": "code",
   "execution_count": null,
   "metadata": {},
   "outputs": [],
   "source": [
    "## Distribution of eigenvalues(`Figure 13`)\n",
    "sp.visualize_eigenvalues()"
   ]
  },
  {
   "cell_type": "code",
   "execution_count": null,
   "metadata": {},
   "outputs": [],
   "source": [
    "## Distribution of eigenvectors (`Figure 14`)\n",
    "sp.visualize_vectors()"
   ]
  },
  {
   "cell_type": "code",
   "execution_count": null,
   "metadata": {},
   "outputs": [],
   "source": [
    "## Set the initial Y\n",
    "sp.initialize_Y(threshold=0.1, seed=2)"
   ]
  },
  {
   "cell_type": "code",
   "execution_count": null,
   "metadata": {},
   "outputs": [],
   "source": [
    "## Average Residual Ratio(ARR) and its visualization(`Figure 9`)\n",
    "k_max=60\n",
    "epsilon = 0.01\n",
    "fontsize = 16\n",
    "n_neighbors = 10\n",
    "df = sp.calcTermsByOptimization(k_max=k_max, \n",
    "                                initial_value=True,\n",
    "                                n_neighbors=n_neighbors,)\n",
    "sp.visualizeTermsByOptimization(df=df,\n",
    "                                title=f'ARR / Trustworthiness for KDDCup1999 dataset',\n",
    "                                epsilon=epsilon,\n",
    "                                saved_filename='arr_plot_kddcup1999_with_TW.pdf',\n",
    "                                fontsize=fontsize)"
   ]
  },
  {
   "cell_type": "code",
   "execution_count": null,
   "metadata": {},
   "outputs": [],
   "source": [
    "## correlation coefficient between ARR and Trustworthiness\n",
    "df['value'].corr(df['trustworthiness'])"
   ]
  },
  {
   "cell_type": "code",
   "execution_count": null,
   "metadata": {},
   "outputs": [],
   "source": [
    "## Average Residual Ratio(ARR) and its visualization(`Figure 9`)\n",
    "sp.drawScatterPlot(df=df, \n",
    "                   epsilon=epsilon, \n",
    "                   legend=False,\n",
    "                   fontsize=fontsize)"
   ]
  },
  {
   "cell_type": "markdown",
   "metadata": {},
   "source": [
    "## Visualize the solution"
   ]
  },
  {
   "cell_type": "code",
   "execution_count": null,
   "metadata": {},
   "outputs": [],
   "source": [
    "## Viaualize the solution path with 3 x 3 grid\n",
    "sp.initialize_Y(threshold=0.2)\n",
    "sp.visualize_SolutionPath_For_GMM(k0 = 20, k1 =25, k2 = 35)"
   ]
  },
  {
   "cell_type": "code",
   "execution_count": null,
   "metadata": {},
   "outputs": [],
   "source": [
    "## Comparison of the low-dimensional representation among GD/MM/NAG.(`Figure 1`)\n",
    "sp.initialize_Y(threshold=0.1)\n",
    "sp.visualize_SolutionPath(k0 = 5, k1 = 22, k2 = 30, k3 = 70)"
   ]
  },
  {
   "cell_type": "code",
   "execution_count": null,
   "metadata": {},
   "outputs": [],
   "source": [
    "## Experiments of various random initialization (`Figure 7`)\n",
    "ks = range(0, 100, 5)\n",
    "\n",
    "df = sp.calc_ARI_with_initial_values(ks=ks,\n",
    "                                trials=30,\n",
    "                                threshold=0.1,)\n",
    "sp.visualize_ARI(df=df)"
   ]
  }
 ],
 "metadata": {
  "kernelspec": {
   "display_name": "Python 3",
   "language": "python",
   "name": "python3"
  },
  "language_info": {
   "codemirror_mode": {
    "name": "ipython",
    "version": 3
   },
   "file_extension": ".py",
   "mimetype": "text/x-python",
   "name": "python",
   "nbconvert_exporter": "python",
   "pygments_lexer": "ipython3",
   "version": "3.12.10"
  }
 },
 "nbformat": 4,
 "nbformat_minor": 2
}
