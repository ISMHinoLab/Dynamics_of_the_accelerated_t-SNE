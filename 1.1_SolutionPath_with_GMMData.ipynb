{
 "cells": [
  {
   "cell_type": "code",
   "execution_count": null,
   "metadata": {},
   "outputs": [],
   "source": [
    "import utils"
   ]
  },
  {
   "cell_type": "markdown",
   "metadata": {},
   "source": [
    "## Initial setting"
   ]
  },
  {
   "cell_type": "code",
   "execution_count": null,
   "metadata": {},
   "outputs": [],
   "source": [
    "sample_data = 'gmm'\n",
    "\n",
    "alpha = 10\n",
    "h = 5\n",
    "momentum = 0.5\n",
    "perplexity = 30\n",
    "sample_number = 200\n",
    "labels = None\n",
    "total_iteration = 100\n",
    "R = 3\n",
    "m = 1\n",
    "\n",
    "sp = utils.SolutionPath(labels=labels\n",
    "                , sample_data=sample_data\n",
    "\t\t\t\t, perplexity=perplexity\n",
    "                , alpha=alpha\n",
    "                , h=h\n",
    "                , total_iteration = total_iteration\n",
    "                , momentum = momentum\n",
    "                , sample_number=sample_number\n",
    "                , R=R\n",
    "                , m=m)"
   ]
  },
  {
   "cell_type": "markdown",
   "metadata": {},
   "source": [
    "## Prepare dataset"
   ]
  },
  {
   "cell_type": "code",
   "execution_count": null,
   "metadata": {},
   "outputs": [],
   "source": [
    "## Load data for GMM\n",
    "sp.load_data()\n",
    "#sp.filter_data()"
   ]
  },
  {
   "cell_type": "code",
   "execution_count": null,
   "metadata": {},
   "outputs": [],
   "source": [
    "# Calculate the probability matrix P\n",
    "sp.tsne_probabilities(X=sp.X_sampled, \n",
    "                    perplexity=30,\n",
    "                    tol=1e-10,\n",
    "                    initial_beta_coefficient=1e-4)"
   ]
  },
  {
   "cell_type": "code",
   "execution_count": null,
   "metadata": {},
   "outputs": [],
   "source": [
    "sp.show_P_matrix()"
   ]
  },
  {
   "cell_type": "markdown",
   "metadata": {},
   "source": [
    "## Solve the eigenproblem of a Laplacian matrix $L(\\alpha P-H_n)$"
   ]
  },
  {
   "cell_type": "code",
   "execution_count": null,
   "metadata": {},
   "outputs": [],
   "source": [
    "## Solve the eigenvalue problem\n",
    "sp.getSolution()"
   ]
  },
  {
   "cell_type": "code",
   "execution_count": null,
   "metadata": {},
   "outputs": [],
   "source": [
    "## Get eigenvalues\n",
    "sp.visualize_eigenvalues()"
   ]
  },
  {
   "cell_type": "code",
   "execution_count": null,
   "metadata": {},
   "outputs": [],
   "source": [
    "## Visualize eigenvectors:\n",
    "sp.visualize_vectors()"
   ]
  },
  {
   "cell_type": "markdown",
   "metadata": {},
   "source": [
    "## Visualize the solution"
   ]
  },
  {
   "cell_type": "code",
   "execution_count": null,
   "metadata": {},
   "outputs": [],
   "source": [
    "## Comparison of the low-dimensional representation among GD/MM/NAG (`Figure 6`)\n",
    "## k0, k1, k2 are the indices of the solution path\n",
    "sp.initialize_Y(threshold=0.1,\n",
    "                seed=2)\n",
    "sp.visualize_SolutionPath_For_GMM(k0 = 4, k1 = 7, k2 = 15)"
   ]
  },
  {
   "cell_type": "markdown",
   "metadata": {},
   "source": [
    "## Evaluate the cost"
   ]
  },
  {
   "cell_type": "code",
   "execution_count": null,
   "metadata": {},
   "outputs": [],
   "source": [
    "## Calculate the cost(KL-divergence) of the solution path\n",
    "sp.calc_cost_transition(variations=10)"
   ]
  },
  {
   "cell_type": "code",
   "execution_count": null,
   "metadata": {},
   "outputs": [],
   "source": [
    "## Evaluation of cost functions(KL-divergence) for GD_ODE/GD_iterative/MM_ODE/MM_iterative/NAG_ODE/NAG_iterative (`Figure 5`)\n",
    "sp.visualize_cost_transition(x_max=99)"
   ]
  },
  {
   "cell_type": "code",
   "execution_count": null,
   "metadata": {},
   "outputs": [],
   "source": []
  }
 ],
 "metadata": {
  "kernelspec": {
   "display_name": "Python 3",
   "language": "python",
   "name": "python3"
  },
  "language_info": {
   "codemirror_mode": {
    "name": "ipython",
    "version": 3
   },
   "file_extension": ".py",
   "mimetype": "text/x-python",
   "name": "python",
   "nbconvert_exporter": "python",
   "pygments_lexer": "ipython3",
   "version": "3.12.10"
  }
 },
 "nbformat": 4,
 "nbformat_minor": 2
}
