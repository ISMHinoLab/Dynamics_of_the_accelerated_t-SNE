{
 "cells": [
  {
   "cell_type": "code",
   "execution_count": null,
   "metadata": {},
   "outputs": [],
   "source": [
    "import utils"
   ]
  },
  {
   "cell_type": "markdown",
   "metadata": {},
   "source": [
    "## Initialize MNIST"
   ]
  },
  {
   "cell_type": "code",
   "execution_count": null,
   "metadata": {},
   "outputs": [],
   "source": [
    "sample_data = 'mnist'\n",
    "h = 10\n",
    "perplexity = 25\n",
    "sample_number = 400\n",
    "alpha = 8\n",
    "labels = ['2', '4', '6', '8']\n",
    "total_iteration = 50\n",
    "momentum = 0.5\n",
    "R = 4\n",
    "m = 1\n",
    "\n",
    "sp = utils.SolutionPath(labels=labels\n",
    "                , sample_data=sample_data\n",
    "\t\t\t\t, perplexity=perplexity\n",
    "                , alpha=alpha\n",
    "                , h=h\n",
    "                , total_iteration = total_iteration\n",
    "                , momentum = momentum\n",
    "                , sample_number = sample_number\n",
    "                , R = R\n",
    "                , m = m)"
   ]
  },
  {
   "cell_type": "code",
   "execution_count": null,
   "metadata": {},
   "outputs": [],
   "source": [
    "## Load data\n",
    "sp.load_data()"
   ]
  },
  {
   "cell_type": "code",
   "execution_count": null,
   "metadata": {},
   "outputs": [],
   "source": [
    "# Calculate the probability matrix P\n",
    "sp.tsne_probabilities(X=sp.X_sampled, \n",
    "                    perplexity=30,\n",
    "                    tol=1e-10,\n",
    "                    initial_beta_coefficient=1e-4)"
   ]
  },
  {
   "cell_type": "code",
   "execution_count": null,
   "metadata": {},
   "outputs": [],
   "source": [
    "## SHow the P matrix\n",
    "sp.show_P_matrix()"
   ]
  },
  {
   "cell_type": "code",
   "execution_count": null,
   "metadata": {},
   "outputs": [],
   "source": [
    "## Solve eigenvalue problem\n",
    "sp.getSolution()"
   ]
  },
  {
   "cell_type": "code",
   "execution_count": null,
   "metadata": {},
   "outputs": [],
   "source": [
    "## Show the solutions\n",
    "sp.visualize_vectors()"
   ]
  },
  {
   "cell_type": "markdown",
   "metadata": {},
   "source": [
    "## VIsualization of MNIST"
   ]
  },
  {
   "cell_type": "code",
   "execution_count": null,
   "metadata": {},
   "outputs": [],
   "source": [
    "## Initializa Y (Low-dimensional expression with random values)\n",
    "sp.initialize_Y(threshold=0.1, seed=10)"
   ]
  },
  {
   "cell_type": "code",
   "execution_count": null,
   "metadata": {},
   "outputs": [],
   "source": [
    "# Average Residual Ratio(ARR) and its visualization(`Figure 2`)\n",
    "epsilon = 0.01\n",
    "k_max =300\n",
    "fontsize = 20\n",
    "n_neighbors = 10\n",
    "df = sp.calcTermsByOptimization(k_max=k_max, \n",
    "                                initial_value=True,\n",
    "                                n_neighbors=n_neighbors,)\n",
    "sp.visualizeTermsByOptimization(df=df,\n",
    "                                title=f'ARR / Trustworthiness for MNIST dataset',\n",
    "                                epsilon=epsilon,\n",
    "                                saved_filename='arr_plot_mnist_with_TW.pdf',\n",
    "                                fontsize=fontsize)"
   ]
  },
  {
   "cell_type": "code",
   "execution_count": null,
   "metadata": {},
   "outputs": [],
   "source": [
    "## Correlation coefficient between ARR and Trustworthiness\n",
    "df['trustworthiness'].corr(df['value'])"
   ]
  },
  {
   "cell_type": "code",
   "execution_count": null,
   "metadata": {},
   "outputs": [],
   "source": [
    "## Viaualize the solution path\n",
    "## k0, k1, k2 are the indices of the solution path\n",
    "sp.initialize_Y(threshold=0.1,\n",
    "                seed=10)\n",
    "sp.visualize_SolutionPath_For_GMM(k0 = 20, k1 =26, k2 = 40)"
   ]
  },
  {
   "cell_type": "code",
   "execution_count": null,
   "metadata": {},
   "outputs": [],
   "source": [
    "# visualize the scatter plot with ARR = 0.01\n",
    "fontsize = 20\n",
    "sp.set_k(df=df, epsilon=epsilon)\n",
    "sp.drawScatterPlot(df=df, \n",
    "                   epsilon=epsilon, \n",
    "                   legend=True,\n",
    "                   fontsize=fontsize,)"
   ]
  },
  {
   "cell_type": "code",
   "execution_count": null,
   "metadata": {},
   "outputs": [],
   "source": [
    "## populate gif with both EE and embedding stages\n",
    "## It takes several hours to generate the gif file.\n",
    "#sp.getSolutionPathWithEmbeddingStageForALL(random_seed_for_initialization=1,\n",
    "#                                           total_iteration=50,\n",
    "#                                           output_gif='mnist_clustering_200.gif')"
   ]
  },
  {
   "cell_type": "code",
   "execution_count": null,
   "metadata": {},
   "outputs": [],
   "source": [
    "## This process needs previous step `getSolutionPathWithEmbeddingStageForALL` to be done\n",
    "## Corresponding to Figure 2\n",
    "#sp.drawScatterPlotWithEmbedding(df=df,\n",
    "#                                epsilon=epsilon,\n",
    "#                                legend=True,\n",
    "#                                final_k=200,\n",
    "#                                fontsize=fontsize)"
   ]
  },
  {
   "cell_type": "markdown",
   "metadata": {},
   "source": [
    "## variation of momentum coefficients"
   ]
  },
  {
   "cell_type": "code",
   "execution_count": null,
   "metadata": {},
   "outputs": [],
   "source": [
    "## ARR with various momentum coefficients(`Figure 11`)\n",
    "k_max = 50\n",
    "epsilon = 0.01\n",
    "momentum_coefficients = [0.1, 0.3, 0.5, 0.7, 0.9]\n",
    "df = sp.calcTermsByOptimizationForMM(k_max=k_max,\n",
    "                                   momentum_coefficients=momentum_coefficients,)\n",
    "sp.visualizeTermsByOptimizationForMM(df=df,\n",
    "                                    epsilon=epsilon,\n",
    "                                    momentum_coefficients=momentum_coefficients,\n",
    "                                    title='ARR with MM for MNIST dataset',\n",
    "                                    legend_title='momentum coefficient',\n",
    "                                    saved_filename='arr_plot_mnist_mm.pdf')\n"
   ]
  },
  {
   "cell_type": "code",
   "execution_count": null,
   "metadata": {},
   "outputs": [],
   "source": [
    "## Experiments of various random initialization (`Figure 7`)\n",
    "ks = range(0, 100, 5)\n",
    "sp.momentum = 0.5\n",
    "threshold = 0.10\n",
    "\n",
    "df = sp.calc_ARI_with_initial_values(ks=ks,\n",
    "                                trials=30,\n",
    "                                threshold=threshold)\n",
    "sp.visualize_ARI(df=df)"
   ]
  },
  {
   "cell_type": "markdown",
   "metadata": {},
   "source": [
    "## Experiments of various initialization methods"
   ]
  },
  {
   "cell_type": "code",
   "execution_count": null,
   "metadata": {},
   "outputs": [],
   "source": [
    "initialization_methods = ['random', 'pca', 'se', 'mds']\n",
    "n_neighbors = 300  ## Parameter for Spectral Embedding\n",
    "ks = range(0, 100, 5)\n",
    "\n",
    "df = sp.calc_ARI_with_various_initial_values(initialization_methods=initialization_methods,\n",
    "                                    ks=ks,\n",
    "                                    trials=10,\n",
    "                                    n_neighbors=n_neighbors,)"
   ]
  },
  {
   "cell_type": "code",
   "execution_count": null,
   "metadata": {},
   "outputs": [],
   "source": [
    "## Visualize experiments results with various initialization (`Figure 8`)\n",
    "initialization_methods = ['random', 'pca', 'se', 'mds']\n",
    "fontsize = 16\n",
    "sp.drawARIWithInitialValues(df=df,\n",
    "                            initialization_methods=initialization_methods,\n",
    "                            saved_filename='ari_plot_mnist_initialize.pdf',\n",
    "                            fontsize=fontsize)"
   ]
  }
 ],
 "metadata": {
  "kernelspec": {
   "display_name": "Python 3",
   "language": "python",
   "name": "python3"
  },
  "language_info": {
   "codemirror_mode": {
    "name": "ipython",
    "version": 3
   },
   "file_extension": ".py",
   "mimetype": "text/x-python",
   "name": "python",
   "nbconvert_exporter": "python",
   "pygments_lexer": "ipython3",
   "version": "3.12.10"
  }
 },
 "nbformat": 4,
 "nbformat_minor": 2
}
