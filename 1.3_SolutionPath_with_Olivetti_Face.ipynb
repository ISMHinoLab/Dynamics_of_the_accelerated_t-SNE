{
 "cells": [
  {
   "cell_type": "code",
   "execution_count": null,
   "metadata": {},
   "outputs": [],
   "source": [
    "import utils"
   ]
  },
  {
   "cell_type": "code",
   "execution_count": null,
   "metadata": {},
   "outputs": [],
   "source": [
    "sample_data = 'olivetti'\n",
    "h = 10\n",
    "perplexity = 30\n",
    "sample_number = None\n",
    "alpha = 4\n",
    "labels = None\n",
    "total_iteration = 50\n",
    "momentum = 0.5\n",
    "R=40\n",
    "m = 1\n",
    "\n",
    "sp = utils.SolutionPath(labels=labels\n",
    "                , sample_data=sample_data\n",
    "\t\t\t\t, perplexity=perplexity\n",
    "                , alpha=alpha\n",
    "                , h=h\n",
    "                , total_iteration = total_iteration\n",
    "                , momentum = momentum\n",
    "                , sample_number = sample_number\n",
    "                , R=R\n",
    "                , m=m\n",
    "                )"
   ]
  },
  {
   "cell_type": "code",
   "execution_count": null,
   "metadata": {},
   "outputs": [],
   "source": [
    "## Load data\n",
    "sp.load_data()"
   ]
  },
  {
   "cell_type": "code",
   "execution_count": null,
   "metadata": {},
   "outputs": [],
   "source": [
    "# Calculate the probability matrix P\n",
    "sp.tsne_probabilities(X=sp.X_sampled, \n",
    "                    perplexity=30,\n",
    "                    tol=1e-10,\n",
    "                    initial_beta_coefficient=1e-4)"
   ]
  },
  {
   "cell_type": "code",
   "execution_count": null,
   "metadata": {},
   "outputs": [],
   "source": [
    "sp.show_P_matrix()"
   ]
  },
  {
   "cell_type": "code",
   "execution_count": null,
   "metadata": {},
   "outputs": [],
   "source": [
    "## Solve eigenvalue problem\n",
    "sp.getSolution()"
   ]
  },
  {
   "cell_type": "code",
   "execution_count": null,
   "metadata": {},
   "outputs": [],
   "source": [
    "## Show the solutions\n",
    "sp.visualize_vectors()"
   ]
  },
  {
   "cell_type": "code",
   "execution_count": null,
   "metadata": {},
   "outputs": [],
   "source": [
    "sp.initialize_Y(threshold=0.1, seed=0)"
   ]
  },
  {
   "cell_type": "code",
   "execution_count": null,
   "metadata": {},
   "outputs": [],
   "source": [
    "## Average Residual Ratio(ARR) and its visualization(`Figure 10`)\n",
    "epsilon = 0.01\n",
    "k_max = 120\n",
    "fontsize = 16\n",
    "n_neighbors = 10\n",
    "df = sp.calcTermsByOptimization(k_max=k_max, \n",
    "                                initial_value=True,\n",
    "                                n_neighbors=n_neighbors,)\n",
    "sp.visualizeTermsByOptimization(df=df,\n",
    "                                title=f'ARR / Trustworthiness for Olivetti dataset',\n",
    "                                epsilon=epsilon,\n",
    "                                saved_filename='arr_plot_olivetti_with_TW.pdf',\n",
    "                                fontsize=fontsize)"
   ]
  },
  {
   "cell_type": "code",
   "execution_count": null,
   "metadata": {},
   "outputs": [],
   "source": [
    "## Correlation coefficient between ARR and Trustworthiness\n",
    "df['trustworthiness'].corr(df['value'])"
   ]
  },
  {
   "cell_type": "code",
   "execution_count": null,
   "metadata": {},
   "outputs": [],
   "source": [
    "## Average Residual Ratio(ARR) and its visualization(`Figure 10`)\n",
    "sp.drawScatterPlot(df=df, epsilon=epsilon, legend=False, fontsize=fontsize)"
   ]
  },
  {
   "cell_type": "code",
   "execution_count": null,
   "metadata": {},
   "outputs": [],
   "source": [
    "## Experiments of various random initialization (`Figure 7`)\n",
    "ks = range(0, 80, 5)\n",
    "\n",
    "df = sp.calc_ARI_with_initial_values(ks=ks,\n",
    "                                trials=30,\n",
    "                                threshold=0.1,)\n",
    "sp.visualize_ARI(df=df)"
   ]
  },
  {
   "cell_type": "code",
   "execution_count": null,
   "metadata": {},
   "outputs": [],
   "source": []
  }
 ],
 "metadata": {
  "kernelspec": {
   "display_name": "Python 3",
   "language": "python",
   "name": "python3"
  },
  "language_info": {
   "codemirror_mode": {
    "name": "ipython",
    "version": 3
   },
   "file_extension": ".py",
   "mimetype": "text/x-python",
   "name": "python",
   "nbconvert_exporter": "python",
   "pygments_lexer": "ipython3",
   "version": "3.12.10"
  }
 },
 "nbformat": 4,
 "nbformat_minor": 2
}
